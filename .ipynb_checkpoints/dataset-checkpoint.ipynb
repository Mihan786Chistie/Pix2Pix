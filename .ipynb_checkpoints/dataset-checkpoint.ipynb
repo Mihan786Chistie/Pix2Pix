{
 "cells": [
  {
   "cell_type": "code",
   "execution_count": null,
   "id": "4f2b348f-373c-4a7b-8241-56a8f79b2d0f",
   "metadata": {},
   "outputs": [],
   "source": [
    "import numpy as np\n",
    "import config\n",
    "import os\n",
    "from PIL import Image\n",
    "from torch.utils.data import Dataset, DataLoader\n",
    "from torchvision.utils import save_image\n",
    "\n",
    "\n",
    "class MapDataset(Dataset):\n",
    "    def __init__(self, root_dir):\n",
    "        self.root_dir = root_dir\n",
    "        self.list_files = os.listdir(self.root_dir)\n",
    "\n",
    "    def __len__(self):\n",
    "        return len(self.list_files)\n",
    "\n",
    "    def __getitem__(self, index):\n",
    "        img_file = self.list_files[index]\n",
    "        img_path = os.path.join(self.root_dir, img_file)\n",
    "        image = np.array(Image.open(img_path))\n",
    "        input_image = image[:, :600, :]\n",
    "        target_image = image[:, 600:, :]\n",
    "\n",
    "        augmentations = config.both_transform(image=input_image, image0=target_image)\n",
    "        input_image = augmentations[\"image\"]\n",
    "        target_image = augmentations[\"image0\"]\n",
    "\n",
    "        input_image = config.transform_only_input(image=input_image)[\"image\"]\n",
    "        target_image = config.transform_only_mask(image=target_image)[\"image\"]\n",
    "\n",
    "        return input_image, target_image\n",
    "\n",
    "\n",
    "if __name__ == \"__main__\":\n",
    "    dataset = MapDataset(\"data/train/\")\n",
    "    loader = DataLoader(dataset, batch_size=5)\n",
    "    for x, y in loader:\n",
    "        print(x.shape)\n",
    "        save_image(x, \"x.png\")\n",
    "        save_image(y, \"y.png\")\n",
    "        import sys\n",
    "\n",
    "        sys.exit()"
   ]
  }
 ],
 "metadata": {
  "kernelspec": {
   "display_name": "Python 3 (ipykernel)",
   "language": "python",
   "name": "python3"
  },
  "language_info": {
   "codemirror_mode": {
    "name": "ipython",
    "version": 3
   },
   "file_extension": ".py",
   "mimetype": "text/x-python",
   "name": "python",
   "nbconvert_exporter": "python",
   "pygments_lexer": "ipython3",
   "version": "3.11.2"
  }
 },
 "nbformat": 4,
 "nbformat_minor": 5
}
